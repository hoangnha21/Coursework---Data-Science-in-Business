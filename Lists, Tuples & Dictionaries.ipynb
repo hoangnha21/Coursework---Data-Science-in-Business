{
 "cells": [
  {
   "cell_type": "markdown",
   "id": "8d97b46e",
   "metadata": {},
   "source": [
    "# IDS Assignment 3 \n",
    "By Nha Nguyen"
   ]
  },
  {
   "cell_type": "code",
   "execution_count": 2,
   "id": "9fcf4931",
   "metadata": {},
   "outputs": [
    {
     "name": "stdout",
     "output_type": "stream",
     "text": [
      "1 : 1748\n",
      "2 : 1601\n",
      "3 : 1700\n",
      "4 : 1614\n",
      "5 : 1661\n",
      "6 : 1676\n"
     ]
    }
   ],
   "source": [
    "#1\n",
    "import random\n",
    "def sim_dice():\n",
    "    occur_dict={1:0,2:0,3:0,4:0,5:0,6:0}\n",
    "    for i in range(10000):\n",
    "        num=random.randint(1,6)\n",
    "        if num==1:\n",
    "            occur_dict[1]+=1\n",
    "        elif num==2:\n",
    "            occur_dict[2]+=1\n",
    "        elif num==3:\n",
    "            occur_dict[3]+=1\n",
    "        elif num==4:\n",
    "            occur_dict[4]+=1\n",
    "        elif num==5:\n",
    "            occur_dict[5]+=1\n",
    "        elif num==6:\n",
    "            occur_dict[6]+=1\n",
    "    return occur_dict\n",
    "occur_dict = sim_dice()\n",
    "for i in occur_dict:\n",
    "    print(str(i) + \" : \" + str(occur_dict[i]))"
   ]
  },
  {
   "cell_type": "code",
   "execution_count": 1,
   "id": "325364e2",
   "metadata": {},
   "outputs": [
    {
     "name": "stdout",
     "output_type": "stream",
     "text": [
      "Enter sentence 1: I like Python programming\n",
      "Enter sentence 2: I like java\n",
      "Output=  6 ['l', 'e', ' ', 'a', 'k', 'i']\n"
     ]
    }
   ],
   "source": [
    "#2\n",
    "l = []\n",
    "def sent_compare(s1,s2):\n",
    "    set1 = set(s1.lower())\n",
    "    set2 = set(s2.lower())\n",
    "    count=0\n",
    "    for x in set1:\n",
    "        if(x in set2):\n",
    "            count +=1\n",
    "            l.append(x)\n",
    "    return count\n",
    "s1= input(\"Enter sentence 1: \")\n",
    "s2= input(\"Enter sentence 2: \")\n",
    "print('Output= ',sent_compare(s1,s2),l)"
   ]
  },
  {
   "cell_type": "code",
   "execution_count": 3,
   "id": "bbe093ba",
   "metadata": {},
   "outputs": [
    {
     "name": "stdout",
     "output_type": "stream",
     "text": [
      "Please enter a sentence: I like computer programming, including Python, Java, and C/C++\n",
      "Please enter delimeters: ,/\n",
      "['I like computer programming', ' including Python', ' Java', ' and C', 'C++']\n"
     ]
    }
   ],
   "source": [
    "#3\n",
    "def sent_split(sentence,delimeters):\n",
    "    for i in delimeters:\n",
    "        sentence = sentence.replace(i, delimeters[0])\n",
    "    sentence = sentence.split(delimeters[0])\n",
    "    return sentence\n",
    "\n",
    "sentence = input('Please enter a sentence: ')\n",
    "delimeters = input('Please enter delimeters: ')\n",
    "print(sent_split(sentence,delimeters))"
   ]
  },
  {
   "cell_type": "code",
   "execution_count": null,
   "id": "0cebba58",
   "metadata": {},
   "outputs": [],
   "source": []
  }
 ],
 "metadata": {
  "kernelspec": {
   "display_name": "Python 3",
   "language": "python",
   "name": "python3"
  },
  "language_info": {
   "codemirror_mode": {
    "name": "ipython",
    "version": 3
   },
   "file_extension": ".py",
   "mimetype": "text/x-python",
   "name": "python",
   "nbconvert_exporter": "python",
   "pygments_lexer": "ipython3",
   "version": "3.8.8"
  }
 },
 "nbformat": 4,
 "nbformat_minor": 5
}
