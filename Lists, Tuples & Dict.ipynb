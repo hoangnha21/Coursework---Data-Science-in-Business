{
 "cells": [
  {
   "cell_type": "markdown",
   "id": "f066d4e6",
   "metadata": {},
   "source": [
    "# Task 1\n",
    "Dice probability distribution simulation \n",
    "\n",
    "Function name: sim_dice\n",
    "\n",
    "Parameters: None\n",
    "\n",
    "Return: A dictionary with 6 elements: keys are integers 1 to 6, values are corresponding number of occurrences.\n",
    "Description: You roll the dice 10,000 times. Each time you get one of six sides with a probability of 1/6. You need to generate the total number of occurrences for each side, store them in a dictionary as a returned value.\n",
    "Note: This rolling is equal to choosing a number in [1,2,3,4,5,6]. You can use randint() to randomly generate a integer between 1 and 6."
   ]
  },
  {
   "cell_type": "code",
   "execution_count": 2,
   "id": "9fcf4931",
   "metadata": {},
   "outputs": [
    {
     "name": "stdout",
     "output_type": "stream",
     "text": [
      "1 : 1748\n",
      "2 : 1601\n",
      "3 : 1700\n",
      "4 : 1614\n",
      "5 : 1661\n",
      "6 : 1676\n"
     ]
    }
   ],
   "source": [
    "import random\n",
    "def sim_dice():\n",
    "    occur_dict={1:0,2:0,3:0,4:0,5:0,6:0}\n",
    "    for i in range(10000):\n",
    "        num=random.randint(1,6)\n",
    "        if num==1:\n",
    "            occur_dict[1]+=1\n",
    "        elif num==2:\n",
    "            occur_dict[2]+=1\n",
    "        elif num==3:\n",
    "            occur_dict[3]+=1\n",
    "        elif num==4:\n",
    "            occur_dict[4]+=1\n",
    "        elif num==5:\n",
    "            occur_dict[5]+=1\n",
    "        elif num==6:\n",
    "            occur_dict[6]+=1\n",
    "    return occur_dict\n",
    "occur_dict = sim_dice()\n",
    "for i in occur_dict:\n",
    "    print(str(i) + \" : \" + str(occur_dict[i]))"
   ]
  },
  {
   "cell_type": "markdown",
   "id": "f316c893",
   "metadata": {},
   "source": [
    "# Task 2\n",
    "entence comparison \n",
    "\n",
    "Function name: sent_compare\n",
    "\n",
    "Parameters: sentence 1, sentence 2\n",
    "\n",
    "Return: An integer (the number of common unique characters in two sentences) and a list (the list of common unique characters in two sentences)\n",
    "Description: You receive two sentences as inputs from the keyboard and compare them. Your function should be able to output the number and content of common unique characters in two sentences."
   ]
  },
  {
   "cell_type": "code",
   "execution_count": 1,
   "id": "325364e2",
   "metadata": {},
   "outputs": [
    {
     "name": "stdout",
     "output_type": "stream",
     "text": [
      "Enter sentence 1: I like Python programming\n",
      "Enter sentence 2: I like java\n",
      "Output=  6 ['l', 'e', ' ', 'a', 'k', 'i']\n"
     ]
    }
   ],
   "source": [
    "l = []\n",
    "def sent_compare(s1,s2):\n",
    "    set1 = set(s1.lower())\n",
    "    set2 = set(s2.lower())\n",
    "    count=0\n",
    "    for x in set1:\n",
    "        if(x in set2):\n",
    "            count +=1\n",
    "            l.append(x)\n",
    "    return count\n",
    "s1= input(\"Enter sentence 1: \")\n",
    "s2= input(\"Enter sentence 2: \")\n",
    "print('Output= ',sent_compare(s1,s2),l)"
   ]
  },
  {
   "cell_type": "markdown",
   "id": "9a9cccff",
   "metadata": {},
   "source": [
    "# Task 3\n",
    "\n",
    "Sentence split\n",
    "\n",
    "Function name: sent_split\n",
    "\n",
    "Parameters: sentence, delimiter1, delimiter 2, ...\n",
    "\n",
    "Return: A list containing all separated strings\n",
    "Description: You receive one sentence and uncertain number of delimiters from the keyboard. Then you separate all strings in that sentence."
   ]
  },
  {
   "cell_type": "code",
   "execution_count": 3,
   "id": "bbe093ba",
   "metadata": {},
   "outputs": [
    {
     "name": "stdout",
     "output_type": "stream",
     "text": [
      "Please enter a sentence: I like computer programming, including Python, Java, and C/C++\n",
      "Please enter delimeters: ,/\n",
      "['I like computer programming', ' including Python', ' Java', ' and C', 'C++']\n"
     ]
    }
   ],
   "source": [
    "def sent_split(sentence,delimeters):\n",
    "    for i in delimeters:\n",
    "        sentence = sentence.replace(i, delimeters[0])\n",
    "    sentence = sentence.split(delimeters[0])\n",
    "    return sentence\n",
    "\n",
    "sentence = input('Please enter a sentence: ')\n",
    "delimeters = input('Please enter delimeters: ')\n",
    "print(sent_split(sentence,delimeters))"
   ]
  },
  {
   "cell_type": "code",
   "execution_count": null,
   "id": "0cebba58",
   "metadata": {},
   "outputs": [],
   "source": []
  }
 ],
 "metadata": {
  "kernelspec": {
   "display_name": "Python 3 (ipykernel)",
   "language": "python",
   "name": "python3"
  },
  "language_info": {
   "codemirror_mode": {
    "name": "ipython",
    "version": 3
   },
   "file_extension": ".py",
   "mimetype": "text/x-python",
   "name": "python",
   "nbconvert_exporter": "python",
   "pygments_lexer": "ipython3",
   "version": "3.10.9"
  }
 },
 "nbformat": 4,
 "nbformat_minor": 5
}
