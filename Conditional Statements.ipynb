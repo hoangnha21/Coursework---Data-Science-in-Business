{
 "cells": [
  {
   "cell_type": "markdown",
   "id": "aefa225d",
   "metadata": {},
   "source": [
    "# Assignment 1 \n",
    "By Nha Nguyen"
   ]
  },
  {
   "cell_type": "markdown",
   "id": "ea0a9b64",
   "metadata": {},
   "source": [
    "Exercise 1: Print the following texts \n",
    "Print the following text:\n",
    "• It’s raining now.\n",
    "• “\\\\” is a double backslash\n",
    "• 1 2 3 (Note: numbers are tab separated)"
   ]
  },
  {
   "cell_type": "code",
   "execution_count": 13,
   "id": "9880eaa7",
   "metadata": {},
   "outputs": [
    {
     "name": "stdout",
     "output_type": "stream",
     "text": [
      "It is raining now.\n"
     ]
    }
   ],
   "source": [
    "print ('It is raining now.')"
   ]
  },
  {
   "cell_type": "code",
   "execution_count": 4,
   "id": "55f8ecb8",
   "metadata": {},
   "outputs": [
    {
     "name": "stdout",
     "output_type": "stream",
     "text": [
      "It's raining now.\n"
     ]
    }
   ],
   "source": [
    "print (\"It\\'s raining now.\")"
   ]
  },
  {
   "cell_type": "code",
   "execution_count": 5,
   "id": "6f77d0bb",
   "metadata": {},
   "outputs": [
    {
     "name": "stdout",
     "output_type": "stream",
     "text": [
      "It's***raining***now."
     ]
    }
   ],
   "source": [
    "print(\"It's\",\"raining\", sep='***', end = '***now.',)\n",
    "\n"
   ]
  },
  {
   "cell_type": "code",
   "execution_count": 1,
   "id": "10fbd2e3",
   "metadata": {},
   "outputs": [
    {
     "name": "stdout",
     "output_type": "stream",
     "text": [
      "real roots:  The solutioins are 17.0 and 23.0\n"
     ]
    }
   ],
   "source": [
    "#Exercise 2: X^2 -40X+391\n",
    "#import complex math module\n",
    "import math \n",
    "a=1\n",
    "b=-40\n",
    "c=391\n",
    "\n",
    "#discriminant \n",
    "d=(b**2)-(4*a*c)\n",
    "\n",
    "#if the discriminant is greater than or equal to 0, there are two real roots\n",
    "if d>=0:\n",
    "    print(\"real roots: \", end=' ')\n",
    "    #The two solutions using the formula:\n",
    "    sol1= (-b - math.sqrt(d))/(2*a)\n",
    "    sol2= (-b + math.sqrt(d))/(2*a)\n",
    "    \n",
    "    print(\"The solutioins are {0} and {1}\". format(sol1, sol2))\n",
    "    \n",
    "#If the discriminant is negative then roots are complex\n",
    "\n",
    "else:\n",
    "    print(\"complex roots: \", end=' ')"
   ]
  },
  {
   "cell_type": "code",
   "execution_count": 2,
   "id": "7d693b17",
   "metadata": {},
   "outputs": [
    {
     "name": "stdout",
     "output_type": "stream",
     "text": [
      "X= 5\n",
      "Y= 20\n"
     ]
    }
   ],
   "source": [
    "#Exercise 3\n",
    "#1 Obtain two integer inputs from users:X and Y\n",
    "X= int(input(\"X= \"))\n",
    "Y= int(input(\"Y= \"))"
   ]
  },
  {
   "cell_type": "code",
   "execution_count": 5,
   "id": "a0fea4b7",
   "metadata": {},
   "outputs": [
    {
     "name": "stdout",
     "output_type": "stream",
     "text": [
      "-1.6666666666666667\n"
     ]
    }
   ],
   "source": [
    "#Print out results for the equations (X+Y)/(X-Y) and (X-Y)^3\n",
    "print((X+Y)/(X-Y))"
   ]
  },
  {
   "cell_type": "code",
   "execution_count": 6,
   "id": "55dfd7bc",
   "metadata": {},
   "outputs": [
    {
     "name": "stdout",
     "output_type": "stream",
     "text": [
      "-3375\n"
     ]
    }
   ],
   "source": [
    "print((X-Y)**3)"
   ]
  },
  {
   "cell_type": "code",
   "execution_count": 8,
   "id": "eb0d82b8",
   "metadata": {},
   "outputs": [
    {
     "name": "stdout",
     "output_type": "stream",
     "text": [
      "Last Digit of X+Y=  5\n"
     ]
    }
   ],
   "source": [
    "#3Print out the last digit of X+Y\n",
    "lastdigit = (X+Y)% 10\n",
    "print(\"Last Digit of X+Y= \", lastdigit)"
   ]
  },
  {
   "cell_type": "code",
   "execution_count": 9,
   "id": "4400f997",
   "metadata": {},
   "outputs": [
    {
     "name": "stdout",
     "output_type": "stream",
     "text": [
      "Player 1: rock\n",
      "Player 2: paper\n",
      "Player 2 wins\n"
     ]
    }
   ],
   "source": [
    "#Exercise 4\n",
    "#input from user 1\n",
    "player1 = input(\"Player 1: \")\n",
    "#input from user 2\n",
    "player2 = input(\"Player 2: \")  \n",
    "\n",
    "if player1 == player2:  #same input for both players \n",
    "    print(\"draw\")\n",
    "elif player1 == \"rock\" and player2 == \"paper\": \n",
    "    print(\"Player 2 wins\")\n",
    "elif player1 == \"rock\" and player2 == \"scissors\":\n",
    "    print(\"Player 1 wins\")\n",
    "elif player1 == \"paper\" and player2 == \"scissors\":\n",
    "    print(\"Player 2 wins\")\n",
    "else:\n",
    "    print(\"invalid input\")"
   ]
  },
  {
   "cell_type": "code",
   "execution_count": 12,
   "id": "92c3c3b0",
   "metadata": {},
   "outputs": [
    {
     "name": "stdout",
     "output_type": "stream",
     "text": [
      "Please enter the temperature: 30\n",
      "Is this Celsius or Fahrenheit? C\n",
      "30 C is 86 in Fahrenheit\n"
     ]
    }
   ],
   "source": [
    "#Exercise 5\n",
    "temperature = int(input(\"Please enter the temperature: \"))\n",
    "degree = input(\"Is this Celsius or Fahrenheit? \")\n",
    "\n",
    "if degree == \"C\":\n",
    "    result = int(round((9*temperature)/5+32))\n",
    "    convert = \"Fahrenheit\"\n",
    "elif degree== \"F\":\n",
    "    result = int(round((temperature - 32)*5/9))\n",
    "    convert = \"Celsius\"\n",
    "\n",
    "print(str(temperature),degree,\"is\",str(result),\"in\",convert)"
   ]
  }
 ],
 "metadata": {
  "kernelspec": {
   "display_name": "Python 3 (ipykernel)",
   "language": "python",
   "name": "python3"
  },
  "language_info": {
   "codemirror_mode": {
    "name": "ipython",
    "version": 3
   },
   "file_extension": ".py",
   "mimetype": "text/x-python",
   "name": "python",
   "nbconvert_exporter": "python",
   "pygments_lexer": "ipython3",
   "version": "3.10.9"
  }
 },
 "nbformat": 4,
 "nbformat_minor": 5
}
