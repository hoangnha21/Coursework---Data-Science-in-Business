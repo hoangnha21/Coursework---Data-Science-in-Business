{
 "cells": [
  {
   "cell_type": "markdown",
   "id": "cb9ed076",
   "metadata": {},
   "source": [
    "# Task 1\n",
    "\n",
    "Write a program that asks the user to enter a positive integer n, and calculates the sum of the integers 1 + 3 + 5 + 7 + ... + (2n-1) and prints out this sum to the screen. Your program should be able to handle the invalid case where the input is negative. You must use loop to do this task.\n"
   ]
  },
  {
   "cell_type": "code",
   "execution_count": 1,
   "id": "42fb2cf9",
   "metadata": {},
   "outputs": [
    {
     "name": "stdout",
     "output_type": "stream",
     "text": [
      "Enter a positive integer: 2\n",
      "The sum is:  4\n"
     ]
    }
   ],
   "source": [
    "n = int(input(\"Enter a positive integer: \"))\n",
    "if n<0:\n",
    "    print(\"The input you gave is not valid. It must be positive.\")\n",
    "else:\n",
    "    sum = 0\n",
    "    for i in range(1,n+1):\n",
    "        sum = sum + (2*i-1)\n",
    "    print(\"The sum is: \",sum)\n",
    "\n"
   ]
  },
  {
   "cell_type": "markdown",
   "id": "94d7a7a4",
   "metadata": {},
   "source": [
    "# Task 2\n",
    "\n",
    "Write a program that asks the user to enter a positive integer n, and prints out the following shape. You must use nested loop in your program. The gap between two numbers could be a space or a tab."
   ]
  },
  {
   "cell_type": "code",
   "execution_count": 2,
   "id": "3d58e258",
   "metadata": {},
   "outputs": [
    {
     "name": "stdout",
     "output_type": "stream",
     "text": [
      "1 \n",
      "1 2 \n",
      "1 2 3 \n",
      "1 2 3 4 \n",
      "1 2 3 4 5 \n"
     ]
    }
   ],
   "source": [
    "#Excercise 2\n",
    "\n",
    "i=1\n",
    "height=5\n",
    "line = ''\n",
    "while i <= height:\n",
    "    line= line + str(i)+ ' '\n",
    "    print(line)\n",
    "    i+=1"
   ]
  },
  {
   "cell_type": "code",
   "execution_count": 3,
   "id": "ef44ca64",
   "metadata": {},
   "outputs": [
    {
     "name": "stdout",
     "output_type": "stream",
     "text": [
      "3.1416926435905346\n"
     ]
    }
   ],
   "source": [
    "#Task 3\n",
    "n=0\n",
    "sum = 0\n",
    "while n<=10000:\n",
    "    sum = sum + ((-1)**n/(2*n+1))\n",
    "    n = n + 1\n",
    "    a= 4*sum\n",
    "print(a)"
   ]
  },
  {
   "cell_type": "markdown",
   "id": "13767b14",
   "metadata": {},
   "source": [
    "# Task 4\n",
    "\n",
    "Marble Game\n",
    "\n",
    "Write a program that allows to players to play the marble game using combinations of loop and conditional statements. In the marble game, you ask the user to enter how many marbles to start with. Then, the game begins. The first player must take 1, 2 or 3 marbles. Then the second player goes and must take 1, 2 or 3 marbles. The winner is the player who takes the last marble. Allow two users to play this game and print out the winner (player #1 or player#2). Assume that both players enter valid inputs (1, 2 or 3, and they never try to take more marbles than there are in the pile.)"
   ]
  },
  {
   "cell_type": "code",
   "execution_count": 1,
   "id": "b5418f0f",
   "metadata": {},
   "outputs": [
    {
     "name": "stdout",
     "output_type": "stream",
     "text": [
      "How many marbles to start with? 10\n",
      "Player #1, there are 10 marbles left. How many marbles will you take?2\n",
      "Player #2, there are 8 marbles left. How many marbles will you take?2\n",
      "Player #1, there are 6 marbles left. How many marbles will you take?2\n",
      "Player #2, there are 4 marbles left. How many marbles will you take?1\n",
      "Player #1, there are 3 marbles left. How many marbles will you take?3\n",
      "player #1, you took the last marble and have won!\n"
     ]
    }
   ],
   "source": [
    "n= int(input(\"How many marbles to start with? \"))\n",
    "l= [1,2,3]\n",
    "player1_turn = True\n",
    "\n",
    "while n>0:\n",
    "\n",
    "    if player1_turn:\n",
    "        player_1 = int(input(\"Player #1, there are {} marbles left. How many marbles will you take?\".format(n)))\n",
    "        while player_1 not in l:\n",
    "            print(\"Invalid, try again\")\n",
    "            player_1 = int(input(\"Player #1, there are {} marbles left. How many marbles will you take?\".format(n)))\n",
    "        while player_1>n:\n",
    "            print(\"Invalid, try again\")\n",
    "            player_1 = int(input(\"Player #1, there are {} marbles left. How many marbles will you take?\".format(n)))\n",
    "        n=n-player_1\n",
    "        if n==0:\n",
    "            print(\"player #1, you took the last marble and have won!\")\n",
    "        else:\n",
    "            player1_turn=False \n",
    "            \n",
    "    else:                   \n",
    "        player_2 = int(input(\"Player #2, there are {} marbles left. How many marbles will you take?\".format(n)))\n",
    "        while player_2 not in l:\n",
    "            print(\"Invalid, try again\")\n",
    "            player_2 = int(input(\"Player #2, there are {} marbles left. How many marbles will you take?\".format(n)))\n",
    "        while player_2>n:\n",
    "            print(\"Invalid, try again\")\n",
    "            player_2 = int(input(\"Player #2, there are {} marbles left. How many marbles will you take?\".format(n)))\n",
    "        n=n-player_2\n",
    "        if n==0:\n",
    "            print(\"player #2, you took the last marble and have won!\")\n",
    "        else:\n",
    "            player1_turn=True\n",
    "            "
   ]
  },
  {
   "cell_type": "code",
   "execution_count": 3,
   "id": "7e6b917e",
   "metadata": {},
   "outputs": [
    {
     "name": "stdout",
     "output_type": "stream",
     "text": [
      "Enter a positive integer: 5\n",
      "*                *\n",
      "***            ***\n",
      "*****        *****\n",
      "*******    *******\n",
      "******************\n"
     ]
    }
   ],
   "source": [
    "#Excercise 5\n",
    "while True: \n",
    "  n = int(input(\"Enter a positive integer: \"))        \n",
    "  if n > 0:                                           \n",
    "    for i in range(n):\n",
    "      s = ''\n",
    "      s += '*'*(2*i+1)                     \n",
    "      s += ' '*(4*(n-i-1))                  \n",
    "      s += '*'*(2*i+1)                      \n",
    "      print(s)\n",
    "    break\n",
    "  else:\n",
    "    print(\"The input you gave is not valid. It must be positive.\") "
   ]
  }
 ],
 "metadata": {
  "kernelspec": {
   "display_name": "Python 3 (ipykernel)",
   "language": "python",
   "name": "python3"
  },
  "language_info": {
   "codemirror_mode": {
    "name": "ipython",
    "version": 3
   },
   "file_extension": ".py",
   "mimetype": "text/x-python",
   "name": "python",
   "nbconvert_exporter": "python",
   "pygments_lexer": "ipython3",
   "version": "3.10.9"
  }
 },
 "nbformat": 4,
 "nbformat_minor": 5
}
