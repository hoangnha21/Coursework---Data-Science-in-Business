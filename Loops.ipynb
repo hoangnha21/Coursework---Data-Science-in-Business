{
 "cells": [
  {
   "cell_type": "markdown",
   "id": "c2f2988c",
   "metadata": {},
   "source": [
    "# Assignment 2\n",
    "by Nha Nguyen"
   ]
  },
  {
   "cell_type": "code",
   "execution_count": 3,
   "id": "42fb2cf9",
   "metadata": {},
   "outputs": [
    {
     "name": "stdout",
     "output_type": "stream",
     "text": [
      "Enter a positive integer: 5\n",
      "The sum is:  25\n"
     ]
    }
   ],
   "source": [
    "#Excercise 1\n",
    "\n",
    "n = int(input(\"Enter a positive integer: \"))\n",
    "if n<0:\n",
    "    print(\"The input you gave is not valid. It must be positive.\")\n",
    "else:\n",
    "    sum = 0\n",
    "    for i in range(1,n+1):\n",
    "        sum = sum + (2*i-1)\n",
    "    print(\"The sum is: \",sum)\n",
    "\n"
   ]
  },
  {
   "cell_type": "code",
   "execution_count": 6,
   "id": "3d58e258",
   "metadata": {},
   "outputs": [
    {
     "name": "stdout",
     "output_type": "stream",
     "text": [
      "1 \n",
      "1 2 \n",
      "1 2 3 \n",
      "1 2 3 4 \n",
      "1 2 3 4 5 \n"
     ]
    }
   ],
   "source": [
    "#Excercise 2\n",
    "\n",
    "i=1\n",
    "height=5\n",
    "line = ''\n",
    "while i <= height:\n",
    "    line= line + str(i)+ ' '\n",
    "    print(line)\n",
    "    i+=1"
   ]
  },
  {
   "cell_type": "code",
   "execution_count": 7,
   "id": "ef44ca64",
   "metadata": {},
   "outputs": [
    {
     "name": "stdout",
     "output_type": "stream",
     "text": [
      "3.1416926435905346\n"
     ]
    }
   ],
   "source": [
    "#Exercise 3\n",
    "n=0\n",
    "sum = 0\n",
    "while n<=10000:\n",
    "    sum = sum + ((-1)**n/(2*n+1))\n",
    "    n = n + 1\n",
    "    a= 4*sum\n",
    "print(a)"
   ]
  },
  {
   "cell_type": "code",
   "execution_count": 1,
   "id": "b5418f0f",
   "metadata": {},
   "outputs": [
    {
     "name": "stdout",
     "output_type": "stream",
     "text": [
      "How many marbles to start with? 10\n",
      "Player #1, there are 10 marbles left. How many marbles will you take?2\n",
      "Player #2, there are 8 marbles left. How many marbles will you take?2\n",
      "Player #1, there are 6 marbles left. How many marbles will you take?2\n",
      "Player #2, there are 4 marbles left. How many marbles will you take?1\n",
      "Player #1, there are 3 marbles left. How many marbles will you take?3\n",
      "player #1, you took the last marble and have won!\n"
     ]
    }
   ],
   "source": [
    "#Exercise 4\n",
    "n= int(input(\"How many marbles to start with? \"))\n",
    "l= [1,2,3]\n",
    "player1_turn = True\n",
    "\n",
    "while n>0:\n",
    "\n",
    "    if player1_turn:\n",
    "        player_1 = int(input(\"Player #1, there are {} marbles left. How many marbles will you take?\".format(n)))\n",
    "        while player_1 not in l:\n",
    "            print(\"Invalid, try again\")\n",
    "            player_1 = int(input(\"Player #1, there are {} marbles left. How many marbles will you take?\".format(n)))\n",
    "        while player_1>n:\n",
    "            print(\"Invalid, try again\")\n",
    "            player_1 = int(input(\"Player #1, there are {} marbles left. How many marbles will you take?\".format(n)))\n",
    "        n=n-player_1\n",
    "        if n==0:\n",
    "            print(\"player #1, you took the last marble and have won!\")\n",
    "        else:\n",
    "            player1_turn=False \n",
    "            \n",
    "    else:                   \n",
    "        player_2 = int(input(\"Player #2, there are {} marbles left. How many marbles will you take?\".format(n)))\n",
    "        while player_2 not in l:\n",
    "            print(\"Invalid, try again\")\n",
    "            player_2 = int(input(\"Player #2, there are {} marbles left. How many marbles will you take?\".format(n)))\n",
    "        while player_2>n:\n",
    "            print(\"Invalid, try again\")\n",
    "            player_2 = int(input(\"Player #2, there are {} marbles left. How many marbles will you take?\".format(n)))\n",
    "        n=n-player_2\n",
    "        if n==0:\n",
    "            print(\"player #2, you took the last marble and have won!\")\n",
    "        else:\n",
    "            player1_turn=True\n",
    "            "
   ]
  },
  {
   "cell_type": "code",
   "execution_count": 3,
   "id": "7e6b917e",
   "metadata": {},
   "outputs": [
    {
     "name": "stdout",
     "output_type": "stream",
     "text": [
      "Enter a positive integer: 5\n",
      "*                *\n",
      "***            ***\n",
      "*****        *****\n",
      "*******    *******\n",
      "******************\n"
     ]
    }
   ],
   "source": [
    "#Excercise 5\n",
    "while True: \n",
    "  n = int(input(\"Enter a positive integer: \"))        \n",
    "  if n > 0:                                           \n",
    "    for i in range(n):\n",
    "      s = ''\n",
    "      s += '*'*(2*i+1)                     \n",
    "      s += ' '*(4*(n-i-1))                  \n",
    "      s += '*'*(2*i+1)                      \n",
    "      print(s)\n",
    "    break\n",
    "  else:\n",
    "    print(\"The input you gave is not valid. It must be positive.\") "
   ]
  }
 ],
 "metadata": {
  "kernelspec": {
   "display_name": "Python 3 (ipykernel)",
   "language": "python",
   "name": "python3"
  },
  "language_info": {
   "codemirror_mode": {
    "name": "ipython",
    "version": 3
   },
   "file_extension": ".py",
   "mimetype": "text/x-python",
   "name": "python",
   "nbconvert_exporter": "python",
   "pygments_lexer": "ipython3",
   "version": "3.10.9"
  }
 },
 "nbformat": 4,
 "nbformat_minor": 5
}
